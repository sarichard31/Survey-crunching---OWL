{
 "cells": [
  {
   "cell_type": "code",
   "execution_count": 43,
   "metadata": {},
   "outputs": [],
   "source": [
    "###########################\n",
    "# Author: Sarah Richard\n",
    "# Case code: Python initiative\n",
    "# Description: Owl crunching \n",
    "# Last modified 8/10/2020\n",
    "###########################"
   ]
  },
  {
   "cell_type": "code",
   "execution_count": 44,
   "metadata": {},
   "outputs": [],
   "source": [
    "import pandas as pd\n",
    "import numpy as np\n",
    "import copy\n",
    "from datetime import datetime"
   ]
  },
  {
   "cell_type": "code",
   "execution_count": 45,
   "metadata": {},
   "outputs": [],
   "source": [
    "#helper functions\n",
    "def answer_value_counts(data,qid):\n",
    "    by_col=data.columns[qid]\n",
    "    answerfreq=data.groupby(by_col)['Weight'].sum().sort_index().reset_index()\n",
    "    answerfreq.rename(columns={by_col:'Answer'},inplace=True)\n",
    "    answerfreq=answerfreq.merge(answerkey.loc[answerkey['Variable ID']==by_col,\n",
    "                 ['Answer Code','Answer Label']],left_on='Answer',\n",
    "                right_on='Answer Code',how='right').sort_values(by='Answer Code')\n",
    "    answerfreq=answerfreq.iloc[:,[2,3,1]]\n",
    "    answerfreq.rename(columns={answerfreq.columns[2]:'Counts'},inplace=True)\n",
    "    answerfreq.fillna(0,inplace=True)\n",
    "    total_N=pd.DataFrame({'Answer Code':['Total N'],'Counts':[data.loc[~data.iloc[:,qid].isna(),'Weight'].sum()]})\n",
    "    answerfreq=answerfreq.append(total_N,sort=False,ignore_index=True)\n",
    "    return answerfreq\n",
    "\n",
    "def answer_rank_counts(data,qid):\n",
    "    by_col=data.columns[qid]\n",
    "    answerfreq=data.groupby(by_col)['Weight'].sum().sort_index().reset_index()\n",
    "    answerfreq.rename(columns={by_col:'Answer'},inplace=True)\n",
    "    rank_key=pd.DataFrame({'Answer Code':[1,2,3],'Answer Label':['1st','2nd','3rd']})\n",
    "    answerfreq=answerfreq.merge(rank_key,left_on='Answer',\n",
    "                    right_on='Answer Code',how='right').sort_values(by='Answer Code')\n",
    "    answerfreq=answerfreq.iloc[:,[2,3,1]]\n",
    "    answerfreq.rename(columns={answerfreq.columns[2]:'Counts'},inplace=True)\n",
    "    answerfreq.fillna(0,inplace=True)\n",
    "    total_N=pd.DataFrame({'Answer Code':['Total N'],'Counts':[\"Check N separately\"]})\n",
    "    answerfreq=answerfreq.append(total_N,sort=False,ignore_index=True)\n",
    "    return answerfreq\n",
    "\n",
    "def answer_numericlist_counts(data,qid):\n",
    "    data=data[~data[data.columns[qid]].isna()]\n",
    "    if data.shape[0]>0:\n",
    "        weighted_col=data.iloc[:,qid]*data['Weight']\n",
    "        col_sort_by_value=data.loc[:,[data.columns[qid],'Weight']].sort_values(by=data.columns[qid])\n",
    "        avg=weighted_col.sum()/data['Weight'].sum()\n",
    "        col_sort_by_value['cumsum']=col_sort_by_value.Weight.cumsum()\n",
    "        median_rank=col_sort_by_value['cumsum'].iloc[-1]/2\n",
    "        median_rank_floor=np.floor(median_rank)\n",
    "        median_rank_ceil=np.ceil(median_rank)\n",
    "        col_sort_by_value['lower_than_median_floor']=col_sort_by_value['cumsum']<median_rank_floor\n",
    "        col_sort_by_value['lower_than_median_ceil']=col_sort_by_value['cumsum']<median_rank_ceil\n",
    "        median1=col_sort_by_value.loc[~col_sort_by_value['lower_than_median_floor'],data.columns[qid]].head(1).values[0]\n",
    "        median2=col_sort_by_value.loc[~col_sort_by_value['lower_than_median_ceil'],data.columns[qid]].head(1).values[0]\n",
    "        if median1==median2:\n",
    "            median=median1\n",
    "        else:\n",
    "            median=median1+(median2-median1)/(median_rank_ceil-median_rank_floor)*(median_rank-median_rank_floor)\n",
    "        col_sort_by_value['std']=np.power(col_sort_by_value[data.columns[qid]]-avg,2)*col_sort_by_value['Weight']\n",
    "        std=np.sqrt(col_sort_by_value['std'].sum()/col_sort_by_value['Weight'].sum())\n",
    "        total_count=data.loc[~data.iloc[:,qid].isna(),'Weight'].sum()\n",
    "    else:\n",
    "        avg='NA'\n",
    "        median='NA'\n",
    "        std='NA'\n",
    "        total_count=0\n",
    "    answerfreq=pd.DataFrame({'Answer Code':[1,2,3],'Answer Label':['Mean','Median','std'],\n",
    "                            'Counts':[avg,median,std]})\n",
    "    total_N=pd.DataFrame({'Answer Code':['Total N'],'Counts':[total_count]})\n",
    "    answerfreq=answerfreq.append(total_N,sort=False,ignore_index=True)\n",
    "    return answerfreq\n",
    "            "
   ]
  },
  {
   "cell_type": "code",
   "execution_count": 46,
   "metadata": {},
   "outputs": [],
   "source": [
    "time=datetime.now().strftime(\"Date_%m-%d_Time_%H-%M\") "
   ]
  },
  {
   "cell_type": "markdown",
   "metadata": {},
   "source": [
    "# <font color='red'>Input and output file names</font>"
   ]
  },
  {
   "cell_type": "code",
   "execution_count": 47,
   "metadata": {},
   "outputs": [],
   "source": [
    "survey_raw_data_file='Data\\owl_example_survey_raw_data.xlsx'\n",
    "datamap='Data\\owl_example_datamap.xlsx'\n",
    "output_file='Analysis\\Survey analysis_'+time+'.xlsx'"
   ]
  },
  {
   "cell_type": "markdown",
   "metadata": {},
   "source": [
    "# Load data and clean up format"
   ]
  },
  {
   "cell_type": "code",
   "execution_count": 48,
   "metadata": {},
   "outputs": [],
   "source": [
    "survey=pd.read_excel(survey_raw_data_file,sheet_name=0)\n",
    "\n",
    "questions=survey.columns.str.split(' : ').str[1].to_list()\n",
    "\n",
    "survey.rename(columns=lambda x:x.split(' : ')[0],inplace=True)\n",
    "answerkey=pd.read_excel(datamap)\n"
   ]
  },
  {
   "cell_type": "code",
   "execution_count": 49,
   "metadata": {},
   "outputs": [],
   "source": [
    "# slight format change to datamap\n",
    "answerkey.loc[answerkey['Type']=='multi','Answer Code']=1\n",
    "answerkey.loc[answerkey['Variable ID'].str.find('99')>0,'Answer Code']=99\n",
    "answerkey.loc[(answerkey['Variable ID'].str.find('98')>0)&(answerkey['Type']=='opentext'),'Answer Code']=98\n",
    "qid_list=answerkey['Variable ID'].unique()"
   ]
  },
  {
   "cell_type": "markdown",
   "metadata": {},
   "source": [
    "### Loop through each question and count answers"
   ]
  },
  {
   "cell_type": "code",
   "execution_count": 50,
   "metadata": {},
   "outputs": [],
   "source": [
    "df=pd.DataFrame({'Question ID':[''],'Question':[''],'Answer Code':[''],'Answer Label':[''],'Counts_all_completes':['']})\n",
    "df2=pd.DataFrame({'Question ID':[''],'Question':[''],'Answer Code':[''],'Answer Label':['']})\n"
   ]
  },
  {
   "cell_type": "markdown",
   "metadata": {},
   "source": [
    "## <font color='red'>Define first question, vendor questions, and survey cuts here</font>"
   ]
  },
  {
   "cell_type": "code",
   "execution_count": 1,
   "metadata": {},
   "outputs": [
    {
     "ename": "SyntaxError",
     "evalue": "invalid syntax (<ipython-input-1-0fb9df7b3fe0>, line 39)",
     "output_type": "error",
     "traceback": [
      "\u001b[1;36m  File \u001b[1;32m\"<ipython-input-1-0fb9df7b3fe0>\"\u001b[1;36m, line \u001b[1;32m39\u001b[0m\n\u001b[1;33m    }\u001b[0m\n\u001b[1;37m    ^\u001b[0m\n\u001b[1;31mSyntaxError\u001b[0m\u001b[1;31m:\u001b[0m invalid syntax\n"
     ]
    }
   ],
   "source": [
    "# DEFINE WEIGHTS HERE:\n",
    "# Default weighting: 1\n",
    "survey['Weight']=1 \n",
    "# If you need to change weights from 1 to other values for a particular segment, define below\n",
    "# EXAMPLE: \n",
    "# survey.loc[survey['hidHospital']==1,'Weight']=2\n",
    "\n",
    "# ENTER FIRST QUESTION NUMBER HERE:\n",
    "startid=np.where(qid_list=='QX')[0][0]\n",
    "\n",
    "# DEFINE COMPLETES HERE:\n",
    "# Default cut: all completes\n",
    "survey_complete=survey.loc[survey['hidStatus']=='COMPLETE',:]\n",
    "# If you need to view incomplete responses, define below\n",
    "# EXAMPLE:\n",
    "survey_complete=survey.loc[survey['hidStatus']=='INCOMPLETE_MAIN',:]\n",
    "\n",
    "# ENTER SINGLE LOOP QUESTION #s HERE:\n",
    "# If there are no single loop questions, write \"loop_q=[]\"\n",
    "loop_q=['QXX','QYY']\n",
    "# Specify the indices and corresponding names of the looped items (i.e., vendors, brands, drugs)\n",
    "# Note - ensure that the last looped option does NOT have a comma after\n",
    "# EXAMPLE: \n",
    "# loop_dict={\n",
    "#     1:'Vendor A',\n",
    "#     2:'Vendor B',\n",
    "#     3:'Vendor C',\n",
    "#     4:'Vendor D',\n",
    "#     5:'Vendor E',\n",
    "#     6:'Vendor F',\n",
    "#     7:'Vendor G',\n",
    "#     8:'Vendor H',\n",
    "#     9:'Vendor I',\n",
    "#     10:'Vendor J',\n",
    "#     11:'Fake vendor',\n",
    "#     98:'Other'\n",
    "# }\n",
    "\n",
    "# DEFINE ADDITIONAL CUTS HERE:\n",
    "# data_dict={  \n",
    "#     'cut 1':survey_complete[survey_complete['var 1']==1],\n",
    "#     'critical_access':survey_complete[survey_complete['hidHospital']==2],\n",
    "#     'other_hospital_type':survey_complete[survey_complete['hidHospital']==3]\n",
    "\n",
    "# }"
   ]
  },
  {
   "cell_type": "code",
   "execution_count": 52,
   "metadata": {},
   "outputs": [],
   "source": [
    "if len(loop_q)>0:\n",
    "    loop_q_number=pd.Series()\n",
    "    for loopq in loop_q:\n",
    "        loop_q_number=loop_q_number.append(pd.Series(pd.Series(qid_list)[pd.Series(qid_list).str.contains(loopq+\"_\")]))\n",
    "    loop_q_number=loop_q_number.reset_index(drop=True)\n",
    "    loop_q_number=pd.DataFrame(loop_q_number)\n",
    "    loop_q_number[['Survey Question','index']]=pd.DataFrame(loop_q_number[0].str.rsplit('_',n=1).tolist())\n",
    "    loop_q_number.rename(columns={0:'Question ID'},inplace=True)\n",
    "    loop_list=pd.DataFrame.from_dict(loop_dict,orient='index',columns=['name']).reset_index()\n",
    "    loop_list['index']=loop_list['index'].astype('str')\n",
    "    loop_q_number=loop_q_number.merge(loop_list,on='index',how='left').rename(columns={0:'name'})\n",
    "    loop_q_number=loop_q_number[loop_q_number['index']!='other']\n",
    "    loop_q_number=loop_q_number[~loop_q_number['Survey Question'].str.contains('other')]\n",
    "    loop_q_number.dropna(inplace=True)"
   ]
  },
  {
   "cell_type": "code",
   "execution_count": 53,
   "metadata": {},
   "outputs": [],
   "source": [
    "# loop_q_number"
   ]
  },
  {
   "cell_type": "code",
   "execution_count": 54,
   "metadata": {},
   "outputs": [],
   "source": [
    "for q in qid_list[startid:]:\n",
    "    qid=survey_complete.columns.get_loc(q)\n",
    "    if (len(loop_q)==0) or (q not in loop_q_number[\"Question ID\"].values):\n",
    "        df=df.append(pd.DataFrame({'Question ID':[survey_complete.columns[qid]],'Question':[questions[qid]],'Answer Code':[''],'Answer Label':[''],'Counts_all_completes':['']}),sort=False,ignore_index=True)\n",
    "\n",
    "        if not(set(answerkey.loc[answerkey['Variable ID']==q, 'Type']) & set(['numericlist','ranking'])): \n",
    "\n",
    "            answer=answer_value_counts(survey_complete,qid)\n",
    "            answer.rename(columns={'Counts':'Counts_all_completes'},inplace=True)\n",
    "            for data in data_dict.keys():\n",
    "                cut=answer_value_counts(data_dict[data],qid)\n",
    "                newname='Counts_'+data\n",
    "                answer[newname]=cut['Counts']\n",
    "            answer.reset_index(drop=True,inplace=True)\n",
    "            df=pd.concat([df,answer],axis=0,sort=False)\n",
    "\n",
    "        if answerkey.loc[answerkey['Variable ID']==q, 'Type'].values[0]=='ranking':\n",
    "\n",
    "            answer=answer_rank_counts(survey_complete,qid)\n",
    "            answer.rename(columns={'Counts':'Counts_all_completes'},inplace=True)\n",
    "            for data in data_dict.keys():\n",
    "                cut=answer_rank_counts(data_dict[data],qid)\n",
    "                newname='Counts_'+data\n",
    "                answer[newname]=cut['Counts']\n",
    "            answer.reset_index(drop=True,inplace=True)\n",
    "            df=pd.concat([df,answer],axis=0,sort=False)\n",
    "\n",
    "        if answerkey.loc[answerkey['Variable ID']==q, 'Type'].values[0]=='numericlist':\n",
    "\n",
    "            answer=answer_numericlist_counts(survey_complete,qid)\n",
    "            answer.rename(columns={'Counts':'Counts_all_completes'},inplace=True)\n",
    "            for data in data_dict.keys():\n",
    "                cut=answer_numericlist_counts(data_dict[data],qid)\n",
    "                newname='Counts_'+data\n",
    "                answer[newname]=cut['Counts']\n",
    "            answer.reset_index(drop=True,inplace=True)\n",
    "            df=pd.concat([df,answer],axis=0,sort=False)\n"
   ]
  },
  {
   "cell_type": "code",
   "execution_count": 55,
   "metadata": {},
   "outputs": [],
   "source": [
    "if len(loop_q)>0:\n",
    "    for q in loop_q_number['Survey Question'].unique():\n",
    "        q_label=loop_q_number.loc[loop_q_number['Survey Question']==q,'Question ID'].reset_index(drop=True)\n",
    "        qid=survey_complete.columns.get_loc(q_label[0])\n",
    "        df2=df2.append(pd.DataFrame({'Question ID':[q],'Question':[questions[qid]],'Answer Code':[''],'Answer Label':['']}),sort=False,ignore_index=True)\n",
    "        name=loop_q_number.loc[loop_q_number['Question ID']==q_label[0],'name'].values[0]\n",
    "        if not(set(answerkey.loc[answerkey['Variable ID']==q_label[0], 'Type']) & set(['numericlist','ranking'])): \n",
    "            answer=answer_value_counts(survey_complete,qid)\n",
    "            answer.rename(columns={'Counts':'Counts_all_completes_'+name},inplace=True)\n",
    "            for ql in q_label[1:]:\n",
    "                qid=survey_complete.columns.get_loc(ql)\n",
    "                name=loop_q_number.loc[loop_q_number['Question ID']==ql,'name'].values[0]\n",
    "                cut=answer_value_counts(survey_complete,qid)\n",
    "                newname='Counts_all_completes_'+name\n",
    "                answer[newname]=cut['Counts']\n",
    "            for data in data_dict.keys():\n",
    "                for ql in q_label:\n",
    "                    qid=survey_complete.columns.get_loc(ql)\n",
    "                    name=loop_q_number.loc[loop_q_number['Question ID']==ql,'name'].values[0]\n",
    "                    cut=answer_value_counts(data_dict[data],qid)\n",
    "                    newname='Counts_'+data+'_'+name\n",
    "                    answer[newname]=cut['Counts']\n",
    "            answer.reset_index(drop=True,inplace=True)\n",
    "            df2=pd.concat([df2,answer],axis=0,sort=False)\n",
    "\n",
    "        if answerkey.loc[answerkey['Variable ID']==q_label[0], 'Type'].values[0]=='ranking':\n",
    "            answer=answer_rank_counts(survey_complete,qid)\n",
    "            answer.rename(columns={'Counts':'Counts_all_completes_'+name},inplace=True)\n",
    "            for ql in q_label[1:]:\n",
    "                qid=survey_complete.columns.get_loc(ql)\n",
    "                name=loop_q_number.loc[loop_q_number['Question ID']==ql,'name'].values[0]\n",
    "                cut=answer_rank_counts(survey_complete,qid)\n",
    "                newname='Counts_all_completes_'+name\n",
    "                answer[newname]=cut['Counts']\n",
    "            for data in data_dict.keys():\n",
    "                for ql in q_label:\n",
    "                    qid=survey_complete.columns.get_loc(ql)\n",
    "                    name=loop_q_number.loc[loop_q_number['Question ID']==ql,'name'].values[0]\n",
    "                    cut=answer_rank_counts(data_dict[data],qid)\n",
    "                    newname='Counts_'+data+'_'+name\n",
    "                    answer[newname]=cut['Counts']\n",
    "            answer.reset_index(drop=True,inplace=True)\n",
    "            df2=pd.concat([df2,answer],axis=0,sort=False)\n",
    "\n",
    "        if answerkey.loc[answerkey['Variable ID']==q_label[0], 'Type'].values[0]=='numericlist':\n",
    "            answer=answer_numericlist_counts(survey_complete,qid)\n",
    "            answer.rename(columns={'Counts':'Counts_all_completes_'+name},inplace=True)\n",
    "            for ql in q_label[1:]:\n",
    "                qid=survey_complete.columns.get_loc(ql)\n",
    "                name=loop_q_number.loc[loop_q_number['Question ID']==ql,'name'].values[0]\n",
    "                cut=answer_numericlist_counts(survey_complete,qid)\n",
    "                newname='Counts_all_completes_'+name\n",
    "                answer[newname]=cut['Counts']\n",
    "            for data in data_dict.keys():\n",
    "                for ql in q_label:\n",
    "                    qid=survey_complete.columns.get_loc(ql)\n",
    "                    name=loop_q_number.loc[loop_q_number['Question ID']==ql,'name'].values[0]\n",
    "                    cut=answer_numericlist_counts(data_dict[data],qid)\n",
    "                    newname='Counts_'+data+'_'+name\n",
    "                    answer[newname]=cut['Counts']\n",
    "            answer.reset_index(drop=True,inplace=True)\n",
    "            df2=pd.concat([df2,answer],axis=0,sort=False)\n"
   ]
  },
  {
   "cell_type": "code",
   "execution_count": null,
   "metadata": {},
   "outputs": [],
   "source": []
  },
  {
   "cell_type": "code",
   "execution_count": null,
   "metadata": {},
   "outputs": [],
   "source": []
  },
  {
   "cell_type": "code",
   "execution_count": 56,
   "metadata": {},
   "outputs": [],
   "source": [
    "writer = pd.ExcelWriter(output_file, engine='xlsxwriter')\n",
    "\n",
    "# Write each dataframe to a different worksheet.\n",
    "df.to_excel(writer,sheet_name='Python output - nonloop',index=False)\n",
    "df2.to_excel(writer,sheet_name='Python output - loop',index=False)\n",
    "\n",
    "# Close the Pandas Excel writer and output the Excel file.\n",
    "writer.save()"
   ]
  },
  {
   "cell_type": "code",
   "execution_count": null,
   "metadata": {},
   "outputs": [],
   "source": []
  },
  {
   "cell_type": "code",
   "execution_count": null,
   "metadata": {},
   "outputs": [],
   "source": []
  }
 ],
 "metadata": {
  "kernelspec": {
   "display_name": "Python 3",
   "language": "python",
   "name": "python3"
  },
  "language_info": {
   "codemirror_mode": {
    "name": "ipython",
    "version": 3
   },
   "file_extension": ".py",
   "mimetype": "text/x-python",
   "name": "python",
   "nbconvert_exporter": "python",
   "pygments_lexer": "ipython3",
   "version": "3.7.6"
  }
 },
 "nbformat": 4,
 "nbformat_minor": 2
}
